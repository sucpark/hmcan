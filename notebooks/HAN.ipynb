{
 "cells": [
  {
   "cell_type": "code",
   "execution_count": 2,
   "metadata": {},
   "outputs": [],
   "source": [
    "\n",
    "import tensorflow as tf\n",
    "import numpy as np\n",
    "import matplotlib.pyplot as plt\n",
    "import json\n",
    "import sys\n",
    "import time\n",
    "import datetime\n",
    "import string\n",
    "from nltk import sent_tokenize, word_tokenize\n",
    "from sklearn.preprocessing import LabelEncoder, LabelBinarizer\n",
    "from sklearn.model_selection import train_test_split\n",
    "from tensorflow.contrib.rnn import GRUCell\n",
    "\n",
    "datapath = '/Users/apple/Google Drive/Dataset/' # Datapath where the data is saved\n",
    "savedir  = '/Users/apple/Desktop/Dataset/'      # Savepath to save the result from the model\n"
   ]
  },
  {
   "cell_type": "markdown",
   "metadata": {},
   "source": [
    "# 1. Load Data"
   ]
  },
  {
   "cell_type": "code",
   "execution_count": 3,
   "metadata": {},
   "outputs": [
    {
     "data": {
      "text/plain": [
       "array([['Love this site.  They have deals that come through that make them cheaper then going to the big box stores and they deliver it next day to your door step.  Go Goober!',\n",
       "        5],\n",
       "       [\"Touch of Thai is a modern restaurant with a small bar and a quiet staff.\\n\\nIf you go here, and you like Thai food, then you will really like the food. It is great! I have had the BBQ and the a few of their curry dishes. All excellent.\\n\\nBut it isn't authentic, it's very modern. My only complaint is the staff speed. It is very close to where I work and you have to be on top of the staff to get your check in time to make it back to work, but it's still a great lunch spot, as they make their food and serve it very quickly.\\n\\nI definitely recommend this place to anyone who like good food.\\n\\nAlso, the prices are incredible for the food you get!\",\n",
       "        4],\n",
       "       [\"We thought that this place looked kind of nice from the outside as we drove by at night so hubby and I stopped in for dinner.  It wasn't busy so we were seated right away.  \\nThis is an Italian-American restaurant and although we saw the yelp reviews, we wanted to try it out for ourselves since we are new to Pittsburgh. We found that the food choices were adequate but kind of overpriced for a place that really wasn't that nice inside.  Our server wasn't very attentive but I am rating the food.  It gets 3 stars.  We don't think we'll be going back.\",\n",
       "        3]], dtype=object)"
      ]
     },
     "execution_count": 3,
     "metadata": {},
     "output_type": "execute_result"
    }
   ],
   "source": [
    "\n",
    "# Load sample dataset\n",
    "npz = np.load(datapath + 'yelp_review_small.npz') # 10,000 reviews\n",
    "data = npz['arr_0'] \n",
    "data[:3,]\n"
   ]
  },
  {
   "cell_type": "code",
   "execution_count": 4,
   "metadata": {},
   "outputs": [],
   "source": [
    "\n",
    "X = data[:,0]  # Text\n",
    "Y = data[:,1]  # Label\n",
    "del data\n"
   ]
  },
  {
   "cell_type": "code",
   "execution_count": 5,
   "metadata": {},
   "outputs": [],
   "source": [
    "\n",
    "# Transfer Label to Onehot encoding\n",
    "le = LabelEncoder()\n",
    "y = le.fit_transform(Y)\n",
    "lb = LabelBinarizer()\n",
    "lb.fit(y)\n",
    "LabelEncoding = lb.transform(y)\n"
   ]
  },
  {
   "cell_type": "code",
   "execution_count": 6,
   "metadata": {},
   "outputs": [],
   "source": [
    "\n",
    "# (Train, Valid, Test)=(0.8, 0.1, 0.1)\n",
    "X_train,X_test,y_train,y_test = train_test_split(X,LabelEncoding, test_size=0.2,random_state=14, stratify = LabelEncoding) \n",
    "X_valid,X_test,y_valid,y_test = train_test_split(X_test,y_test, test_size=0.5,random_state=14,stratify=y_test)\n"
   ]
  },
  {
   "cell_type": "code",
   "execution_count": 8,
   "metadata": {},
   "outputs": [],
   "source": [
    "\n",
    "# Precomputed word2idx dictionary\n",
    "with open('%sword2idx_small.json' % datapath) as f:\n",
    "    w2i = json.load(f)\n",
    "\n",
    "# Precomputed wordembedding matrix with dimension 50\n",
    "npz = np.load('%s/WordEmbedding_small_50.npz' % datapath)\n",
    "WordEmbeddings = npz['arr_0']\n"
   ]
  },
  {
   "cell_type": "markdown",
   "metadata": {},
   "source": [
    "# 2. Create the model"
   ]
  },
  {
   "cell_type": "markdown",
   "metadata": {},
   "source": [
    "## 2.1 Relevant Functions"
   ]
  },
  {
   "cell_type": "code",
   "execution_count": 9,
   "metadata": {},
   "outputs": [],
   "source": [
    "\n",
    "# Remove puntuation\n",
    "def remove_punctuation(s):\n",
    "    return s.translate(str.maketrans('','',string.punctuation+\"\\n\"))\n",
    "\n",
    "# Convert sentence to word\n",
    "def ConvertSentence2Word(s):\n",
    "    return(word_tokenize(remove_punctuation(s).lower()))\n",
    "\n",
    "# Convert sentence to word idx\n",
    "def ConvertSent2Idx(s):\n",
    "    s_temp = [w for w in ConvertSentence2Word(s) if w in w2i]\n",
    "    temp = []\n",
    "    for w in s_temp:\n",
    "        temp.append(w2i[w])\n",
    "    return(temp)\n",
    "\n",
    "# Divide Document with variable length of sentences\n",
    "def ConvertDoc2List(doc):\n",
    "    temp_doc = sent_tokenize(doc)\n",
    "    temp = []\n",
    "    for i in range(len(temp_doc)):\n",
    "        if(len(ConvertSent2Idx(temp_doc[i]))>=1):      # Prevent empty sentence\n",
    "            temp.append(ConvertSent2Idx(temp_doc[i]))       \n",
    "    return(temp)\n",
    "\n",
    "# Convert List type of document to array\n",
    "def ConvertList2Array(docs):\n",
    "    ms = len(docs)\n",
    "    mw = len(max(docs, key=len))\n",
    "    result = np.zeros((ms,mw))\n",
    "    for i, line in enumerate(docs):\n",
    "        for j, word in enumerate(line):\n",
    "            result[i,j] = word\n",
    "    return result\n",
    "\n",
    "# Reset tensor graph\n",
    "def reset_graph(seed=14):\n",
    "    tf.reset_default_graph()\n",
    "    tf.set_random_seed(seed)\n",
    "    np.random.seed(seed)\n",
    "    "
   ]
  },
  {
   "cell_type": "markdown",
   "metadata": {},
   "source": [
    "## 2.2 Experiment Setting"
   ]
  },
  {
   "cell_type": "code",
   "execution_count": 10,
   "metadata": {},
   "outputs": [],
   "source": [
    "\n",
    "num_classes = LabelEncoding.shape[1]\n",
    "attention_dim = WordEmbeddings.shape[1]\n",
    "rnn_dim = WordEmbeddings.shape[1]   # Dimension of hidden layer\n",
    "dropout_rate = 0.9\n",
    "n_epochs = 30\n",
    "xavier_init = tf.contrib.layers.xavier_initializer(dtype=tf.float64)\n"
   ]
  },
  {
   "cell_type": "markdown",
   "metadata": {},
   "source": [
    "## 2.3 Word Embedding"
   ]
  },
  {
   "cell_type": "code",
   "execution_count": 16,
   "metadata": {},
   "outputs": [],
   "source": [
    "\n",
    "reset_graph()\n",
    "\n",
    "dropout = tf.placeholder(tf.float64)\n",
    "document = tf.placeholder(tf.int32, shape=[None,None])\n",
    "words_sent = tf.reduce_sum(tf.sign(document),1)       # Number of words per sentence\n",
    "num_sent = tf.reduce_sum(tf.sign(words_sent))         # Number of sentences in documents\n",
    "num_word = tf.reduce_max(words_sent)                  # Maximum number of words in sentence\n",
    "\n",
    "EmbeddingMatrix = tf.get_variable('WordEmbeddings', initializer=WordEmbeddings, dtype=tf.float64)\n",
    "word_embeds = tf.nn.embedding_lookup(EmbeddingMatrix, document)\n"
   ]
  },
  {
   "cell_type": "markdown",
   "metadata": {},
   "source": [
    "## 2.4 Word Hierarchy"
   ]
  },
  {
   "cell_type": "code",
   "execution_count": 17,
   "metadata": {},
   "outputs": [],
   "source": [
    "\n",
    "# word encoding\n",
    "with tf.variable_scope('words'):\n",
    "    [FowardEmbedding,BackwardEmbedding],_= tf.nn.bidirectional_dynamic_rnn(\n",
    "        cell_fw = tf.contrib.rnn.DropoutWrapper(GRUCell(rnn_dim),state_keep_prob=dropout),\n",
    "        cell_bw = tf.contrib.rnn.DropoutWrapper(GRUCell(rnn_dim),state_keep_prob=dropout),\n",
    "        inputs = word_embeds,\n",
    "        sequence_length = words_sent,\n",
    "        dtype = tf.float64)\n",
    "    words_output = tf.concat((FowardEmbedding, BackwardEmbedding),2)\n",
    "    "
   ]
  },
  {
   "cell_type": "code",
   "execution_count": 18,
   "metadata": {},
   "outputs": [],
   "source": [
    "\n",
    "# word attention\n",
    "mask = tf.sequence_mask(words_sent, num_word) # Create Mask True/False\n",
    "mask = tf.reshape(mask,[-1])\n",
    "\n",
    "words_u = tf.reshape(words_output,[-1,rnn_dim*2])  # Create hidden units\n",
    "words_u = tf.layers.dense(words_u, attention_dim, tf.nn.tanh, xavier_init)\n",
    "\n",
    "words_exp = tf.layers.dense(words_u, 1, tf.exp, False, xavier_init)\n",
    "words_exp = tf.where(mask, words_exp, tf.zeros_like(words_exp))\n",
    "words_exp = tf.reshape(words_exp,[-1,num_word,1])\n",
    "words_exp_sum = tf.reshape(tf.reduce_sum(words_exp,1),[-1,1,1])\n",
    "word_alpha = words_exp / words_exp_sum\n",
    "\n",
    "sent_embed = tf.reduce_sum(words_output*word_alpha,1)\n",
    "sent_embed = tf.expand_dims(sent_embed,0)\n"
   ]
  },
  {
   "cell_type": "markdown",
   "metadata": {},
   "source": [
    "## 2.5 Sentence Hierarchy"
   ]
  },
  {
   "cell_type": "code",
   "execution_count": 19,
   "metadata": {},
   "outputs": [],
   "source": [
    "\n",
    "# sentence encoding\n",
    "with tf.variable_scope('sentence'):\n",
    "    [FowardEmbedding,BackwardEmbedding],_ = tf.nn.bidirectional_dynamic_rnn(\n",
    "        tf.contrib.rnn.DropoutWrapper(GRUCell(rnn_dim),state_keep_prob=dropout),\n",
    "        tf.contrib.rnn.DropoutWrapper(GRUCell(rnn_dim),state_keep_prob=dropout),\n",
    "        inputs = sent_embed,\n",
    "        sequence_length = tf.expand_dims(num_sent,0),\n",
    "        dtype = tf.float64)\n",
    "    fw = tf.squeeze(FowardEmbedding,[0])\n",
    "    bw = tf.squeeze(BackwardEmbedding,[0])\n",
    "    sent_output = tf.concat((fw,bw),1)\n",
    "    "
   ]
  },
  {
   "cell_type": "code",
   "execution_count": 20,
   "metadata": {},
   "outputs": [],
   "source": [
    "\n",
    "# sentence attention\n",
    "sent_u = tf.layers.dense(sent_output,attention_dim,tf.nn.tanh, xavier_init)\n",
    "sent_exp = tf.layers.dense(sent_u, 1, tf.exp, False, xavier_init)\n",
    "sent_alpha = sent_exp/tf.reduce_sum(sent_exp)\n",
    "doc_embed = tf.matmul(tf.transpose(sent_alpha),sent_output)\n"
   ]
  },
  {
   "cell_type": "markdown",
   "metadata": {},
   "source": [
    "## 2.6 Classification"
   ]
  },
  {
   "cell_type": "code",
   "execution_count": 21,
   "metadata": {},
   "outputs": [],
   "source": [
    "\n",
    "logits = tf.layers.dense(doc_embed, num_classes, kernel_initializer=xavier_init)\n",
    "prediction = tf.nn.softmax(logits)\n"
   ]
  },
  {
   "cell_type": "markdown",
   "metadata": {},
   "source": [
    "# 3. Train the model"
   ]
  },
  {
   "cell_type": "code",
   "execution_count": 22,
   "metadata": {},
   "outputs": [],
   "source": [
    "\n",
    "def val_score(data, labels):\n",
    "    correct = 0\n",
    "    for i in range(len(data)):\n",
    "        X_input = ConvertDoc2List(data[i])\n",
    "        if len(X_input) < 1:\n",
    "            continue\n",
    "        X_input = ConvertList2Array(X_input)\n",
    "        feed_dict = {document: X_input, dropout: 1.0}\n",
    "        val_pred = sess.run(prediction, feed_dict=feed_dict)\n",
    "        if np.argmax(val_pred) == np.argmax(labels[i]):\n",
    "            correct +=1\n",
    "        val_acc = correct/len(data)\n",
    "    return val_acc\n"
   ]
  },
  {
   "cell_type": "code",
   "execution_count": 23,
   "metadata": {},
   "outputs": [],
   "source": [
    "\n",
    "label = tf.placeholder(tf.float64, shape=[num_classes])\n",
    "labels = tf.expand_dims(label,0)\n",
    "loss = tf.reduce_mean(tf.nn.softmax_cross_entropy_with_logits_v2(logits=prediction,labels=labels))\n",
    "optimizer = tf.train.AdamOptimizer(2e-5,0.9,0.99)\n",
    "training_op = optimizer.minimize(loss)\n"
   ]
  },
  {
   "cell_type": "code",
   "execution_count": 24,
   "metadata": {},
   "outputs": [
    {
     "name": "stdout",
     "output_type": "stream",
     "text": [
      "epoch 1, training accuracy: 42.76, validation accuracy: 43.70, time:  0:06:11\n",
      "epoch 2, training accuracy: 43.77, validation accuracy: 43.80, time:  0:06:11\n",
      "epoch 3, training accuracy: 44.01, validation accuracy: 46.20, time:  0:06:10\n",
      "epoch 4, training accuracy: 44.88, validation accuracy: 46.90, time:  0:06:07\n",
      "epoch 5, training accuracy: 46.05, validation accuracy: 47.70, time:  0:06:09\n",
      "epoch 6, training accuracy: 46.69, validation accuracy: 48.00, time:  0:06:09\n",
      "epoch 7, training accuracy: 47.15, validation accuracy: 48.30, time:  0:06:10\n",
      "epoch 8, training accuracy: 47.60, validation accuracy: 48.60, time:  0:06:09\n",
      "epoch 9, training accuracy: 48.12, validation accuracy: 48.70, time:  0:06:08\n",
      "epoch 10, training accuracy: 48.29, validation accuracy: 49.10, time:  0:06:09\n",
      "epoch 11, training accuracy: 48.58, validation accuracy: 49.40, time:  0:06:09\n",
      "epoch 12, training accuracy: 49.11, validation accuracy: 49.70, time:  0:06:11\n",
      "epoch 13, training accuracy: 53.06, validation accuracy: 54.30, time:  0:06:09\n",
      "epoch 14, training accuracy: 56.33, validation accuracy: 55.90, time:  0:06:08\n",
      "epoch 15, training accuracy: 57.61, validation accuracy: 57.50, time:  0:06:09\n",
      "epoch 16, training accuracy: 58.48, validation accuracy: 58.10, time:  0:06:09\n",
      "epoch 17, training accuracy: 59.17, validation accuracy: 58.60, time:  0:06:11\n",
      "epoch 18, training accuracy: 60.34, validation accuracy: 59.80, time:  0:06:10\n",
      "epoch 19, training accuracy: 61.09, validation accuracy: 59.60, time:  0:06:00\n",
      "epoch 20, training accuracy: 61.41, validation accuracy: 60.00, time:  0:05:56\n",
      "epoch 21, training accuracy: 61.98, validation accuracy: 60.10, time:  0:05:54\n",
      "epoch 22, training accuracy: 62.46, validation accuracy: 60.90, time:  0:05:53\n",
      "epoch 23, training accuracy: 62.58, validation accuracy: 60.50, time:  0:06:05\n",
      "epoch 24, training accuracy: 63.39, validation accuracy: 60.60, time:  0:06:07\n",
      "epoch 25, training accuracy: 63.24, validation accuracy: 60.70, time:  0:06:11\n",
      "epoch 26, training accuracy: 63.56, validation accuracy: 60.60, time:  0:06:13\n",
      "epoch 27, training accuracy: 63.78, validation accuracy: 60.40, time:  0:06:14\n",
      "epoch 28, training accuracy: 64.35, validation accuracy: 60.60, time:  0:06:13\n",
      "epoch 29, training accuracy: 64.45, validation accuracy: 60.80, time:  0:06:14\n",
      "epoch 30, training accuracy: 64.18, validation accuracy: 60.70, time:  0:06:14\n",
      "\n",
      "Time: 3:04:02\n"
     ]
    }
   ],
   "source": [
    "\n",
    "init = tf.global_variables_initializer()\n",
    "start = time.time()\n",
    "end = time.time()\n",
    "saver = tf.train.Saver()\n",
    "bestscore = 0\n",
    "train_acc = []\n",
    "valid_acc = []\n",
    "\n",
    "with tf.Session() as sess:\n",
    "    init.run()\n",
    "    correct = 0\n",
    "    for epoch in range(n_epochs):\n",
    "        for i in range(len(X_train)):\n",
    "            X_input = ConvertDoc2List(X_train[i])\n",
    "            if(len(X_input) < 1):     # Empty sentence is possible\n",
    "                continue\n",
    "            X_input = ConvertList2Array(X_input)\n",
    "            y_input = y_train[i]\n",
    "            feed_dict = {document: X_input, label: y_input, dropout: dropout_rate}\n",
    "            pred, cost, _ = sess.run([prediction, loss, training_op], feed_dict=feed_dict)\n",
    "            \n",
    "            if np.argmax(pred) == np.argmax(y_input):\n",
    "                correct += 1\n",
    "            sys.stdout.write(\"epoch %i, sample %i of %i, loss: %f\\r\"% (epoch+1,i+1,len(X_train),cost))\n",
    "            sys.stdout.flush()\n",
    "    \n",
    "        trainscore = correct/len(X_train)\n",
    "        valscore = val_score(X_valid, y_valid)\n",
    "        \n",
    "        train_acc.append(trainscore)\n",
    "        valid_acc.append(valscore)\n",
    "        \n",
    "        if valscore >= bestscore:\n",
    "            bestscore = valscore\n",
    "            save_path = saver.save(sess, savedir+\"savedmodels/han_small_50.ckpt\")\n",
    "        temptime = datetime.timedelta(seconds=round(time.time()-start))\n",
    "        print(\"epoch %i, training accuracy: %.2f, validation accuracy: %.2f,\" % (epoch+1, trainscore*100, valscore*100), \"time: \",temptime)  \n",
    "        correct = 0\n",
    "        start = time.time()\n",
    "totaltime = datetime.timedelta(seconds=round(time.time()-end))\n",
    "print(\"\\nTime:\", totaltime)\n"
   ]
  },
  {
   "cell_type": "code",
   "execution_count": 25,
   "metadata": {},
   "outputs": [],
   "source": [
    "\n",
    "# Save the accuracy\n",
    "accuracy = np.column_stack((np.array(train_acc), np.array(valid_acc)))\n",
    "np.savez(datapath + 'accuracy_han_small_50.npz', accuracy)\n"
   ]
  },
  {
   "cell_type": "code",
   "execution_count": 26,
   "metadata": {},
   "outputs": [
    {
     "data": {
      "image/png": "[encoded data removed]",
      "text/plain": [
       "<Figure size 432x288 with 1 Axes>"
      ]
     },
     "metadata": {},
     "output_type": "display_data"
    }
   ],
   "source": [
    "\n",
    "# Plot the accuracy\n",
    "epochs = range(1,n_epochs+1)\n",
    "plt.plot(epochs, train_acc, label=\"train\")\n",
    "plt.plot(epochs, valid_acc, label=\"valid\")\n",
    "plt.title('Training & Validation Accuracy') \n",
    "plt.xlabel('Epoch')\n",
    "plt.ylabel('Accuracy')\n",
    "plt.legend(loc='upper left')\n",
    "plt.show()\n"
   ]
  },
  {
   "cell_type": "markdown",
   "metadata": {},
   "source": [
    "# 4. Test the model"
   ]
  },
  {
   "cell_type": "code",
   "execution_count": 27,
   "metadata": {},
   "outputs": [],
   "source": [
    "\n",
    "def test_score(data, label=[]):\n",
    "    labels = []\n",
    "    init_op = tf.global_variables_initializer()\n",
    "    correct = 0\n",
    "    \n",
    "    with tf.Session() as sess:\n",
    "        sess.run(init_op)\n",
    "        saver.restore(sess, save_path)\n",
    "        for i in range(len(data)):\n",
    "            X_input = ConvertDoc2List(data[i])\n",
    "            if len(X_input) < 1:\n",
    "                continue\n",
    "            X_input = ConvertList2Array(X_input)\n",
    "            feed_dict = {document: X_input, dropout : 1.0}\n",
    "            pred = sess.run(prediction, feed_dict=feed_dict)\n",
    "\n",
    "            if np.argmax(pred) == np.argmax(label[i]):\n",
    "                correct += 1\n",
    "    return correct/len(data)\n",
    "    "
   ]
  },
  {
   "cell_type": "code",
   "execution_count": 28,
   "metadata": {},
   "outputs": [
    {
     "name": "stdout",
     "output_type": "stream",
     "text": [
      "INFO:tensorflow:Restoring parameters from /Users/sucpark/Desktop/Dataset/savedmodels/han_small_50.ckpt\n",
      "\n",
      "test accuracy: 60.50 %\n",
      "Time: 0:00:20\n"
     ]
    }
   ],
   "source": [
    "\n",
    "start = time.time()\n",
    "testscore = test_score(X_test, y_test)\n",
    "totaltime = datetime.timedelta(seconds=round(time.time()-start))\n",
    "print(\"\\ntest accuracy: %.2f\" % (testscore*100),\"%\")\n",
    "print(\"Time:\", totaltime)\n"
   ]
  },
  {
   "cell_type": "code",
   "execution_count": null,
   "metadata": {},
   "outputs": [],
   "source": []
  }
 ],
 "metadata": {
  "kernelspec": {
   "display_name": "Python 3",
   "language": "python",
   "name": "python3"
  },
  "language_info": {
   "codemirror_mode": {
    "name": "ipython",
    "version": 3
   },
   "file_extension": ".py",
   "mimetype": "text/x-python",
   "name": "python",
   "nbconvert_exporter": "python",
   "pygments_lexer": "ipython3",
   "version": "3.6.4"
  }
 },
 "nbformat": 4,
 "nbformat_minor": 2
}
