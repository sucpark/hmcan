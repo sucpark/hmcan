{
 "cells": [
  {
   "cell_type": "code",
   "execution_count": 2,
   "metadata": {},
   "outputs": [],
   "source": [
    "\n",
    "import tensorflow as tf\n",
    "import numpy as np\n",
    "import matplotlib.pyplot as plt\n",
    "import json\n",
    "import sys\n",
    "import time\n",
    "import datetime\n",
    "import string\n",
    "from tensorflow.contrib.layers import layer_norm\n",
    "from nltk import word_tokenize, sent_tokenize\n",
    "from sklearn.preprocessing import LabelEncoder, LabelBinarizer\n",
    "from sklearn.model_selection import train_test_split\n",
    "\n",
    "datapath = '/Users/apple/Google Drive/Dataset/'\n",
    "savedir  = '/Users/apple/Desktop/Dataset/'\n"
   ]
  },
  {
   "cell_type": "markdown",
   "metadata": {},
   "source": [
    "# 1. Load Data"
   ]
  },
  {
   "cell_type": "code",
   "execution_count": 3,
   "metadata": {},
   "outputs": [
    {
     "data": {
      "text/plain": [
       "array([['Love this site.  They have deals that come through that make them cheaper then going to the big box stores and they deliver it next day to your door step.  Go Goober!',\n",
       "        5],\n",
       "       [\"Touch of Thai is a modern restaurant with a small bar and a quiet staff.\\n\\nIf you go here, and you like Thai food, then you will really like the food. It is great! I have had the BBQ and the a few of their curry dishes. All excellent.\\n\\nBut it isn't authentic, it's very modern. My only complaint is the staff speed. It is very close to where I work and you have to be on top of the staff to get your check in time to make it back to work, but it's still a great lunch spot, as they make their food and serve it very quickly.\\n\\nI definitely recommend this place to anyone who like good food.\\n\\nAlso, the prices are incredible for the food you get!\",\n",
       "        4],\n",
       "       [\"We thought that this place looked kind of nice from the outside as we drove by at night so hubby and I stopped in for dinner.  It wasn't busy so we were seated right away.  \\nThis is an Italian-American restaurant and although we saw the yelp reviews, we wanted to try it out for ourselves since we are new to Pittsburgh. We found that the food choices were adequate but kind of overpriced for a place that really wasn't that nice inside.  Our server wasn't very attentive but I am rating the food.  It gets 3 stars.  We don't think we'll be going back.\",\n",
       "        3]], dtype=object)"
      ]
     },
     "execution_count": 3,
     "metadata": {},
     "output_type": "execute_result"
    }
   ],
   "source": [
    "\n",
    "# Load sample dataset\n",
    "npz = np.load(datapath + 'yelp_review_small.npz')\n",
    "data = npz['arr_0']     \n",
    "data[:3,]\n"
   ]
  },
  {
   "cell_type": "code",
   "execution_count": 4,
   "metadata": {},
   "outputs": [],
   "source": [
    "\n",
    "X = data[:,0] # Text data\n",
    "Y = data[:,1] # Label\n",
    "del data\n"
   ]
  },
  {
   "cell_type": "code",
   "execution_count": 5,
   "metadata": {},
   "outputs": [],
   "source": [
    "\n",
    "# Transfer Label to Onehot encoding\n",
    "le = LabelEncoder()\n",
    "y = le.fit_transform(Y)\n",
    "lb = LabelBinarizer()\n",
    "lb.fit(y)\n",
    "LabelEncoding = lb.transform(y)\n"
   ]
  },
  {
   "cell_type": "code",
   "execution_count": 6,
   "metadata": {},
   "outputs": [],
   "source": [
    "\n",
    "# (Train, Valid, Test)=(0.8, 0.1, 0.1)\n",
    "X_train,X_test,y_train,y_test = train_test_split(X,LabelEncoding,\n",
    "                                                 test_size=0.2,random_state=14, stratify = LabelEncoding) \n",
    "X_valid,X_test,y_valid,y_test = train_test_split(X_test,y_test,\n",
    "                                                test_size=0.5,random_state=14,stratify=y_test)\n"
   ]
  },
  {
   "cell_type": "code",
   "execution_count": 7,
   "metadata": {},
   "outputs": [],
   "source": [
    "\n",
    "# Precomputed word2idx dictionary\n",
    "with open('%sword2idx_small.json' % datapath) as f:\n",
    "    w2i = json.load(f)\n",
    "\n",
    "# Precomputed wordembedding matrix with dimension 50\n",
    "npz = np.load('%s/WordEmbedding_small_50.npz' % datapath)\n",
    "WordEmbeddings = npz['arr_0']\n"
   ]
  },
  {
   "cell_type": "markdown",
   "metadata": {},
   "source": [
    "# 2. Create the model"
   ]
  },
  {
   "cell_type": "markdown",
   "metadata": {},
   "source": [
    "## 2.1 Relevant Functions"
   ]
  },
  {
   "cell_type": "code",
   "execution_count": 6,
   "metadata": {},
   "outputs": [],
   "source": [
    "\n",
    "# Remove puntuation\n",
    "def remove_punctuation(s):\n",
    "    return s.translate(str.maketrans('','',string.punctuation+\"\\n\"))\n",
    "\n",
    "# Convert sentence to word\n",
    "def ConvertSentence2Word(s):\n",
    "    return(word_tokenize(remove_punctuation(s).lower()))\n",
    "\n",
    "# Convert sentence to word idx\n",
    "def ConvertSent2Idx(s):\n",
    "    s_temp = [w for w in ConvertSentence2Word(s) if w in w2i]\n",
    "    temp = []\n",
    "    for w in s_temp:\n",
    "        temp.append(w2i[w])\n",
    "    return(temp)\n",
    "\n",
    "# Divide Document with variable length of sentences\n",
    "def ConvertDoc2List(doc):\n",
    "    temp_doc = sent_tokenize(doc)\n",
    "    temp = []\n",
    "    for i in range(len(temp_doc)):\n",
    "        if(len(ConvertSent2Idx(temp_doc[i]))>=1):      # Prevent empty sentence\n",
    "            temp.append(ConvertSent2Idx(temp_doc[i]))       \n",
    "    return(temp)\n",
    "\n",
    "# Convert List type of document to array\n",
    "def ConvertList2Array(docs):\n",
    "    ms = len(docs)\n",
    "    mw = len(max(docs, key=len))\n",
    "    result = np.zeros((ms,mw))\n",
    "    for i, line in enumerate(docs):\n",
    "        for j, word in enumerate(line):\n",
    "            result[i,j] = word\n",
    "    return result\n",
    "\n",
    "# Reset tensor graph\n",
    "def reset_graph(seed=14):\n",
    "    tf.reset_default_graph()\n",
    "    tf.set_random_seed(seed)\n",
    "    np.random.seed(seed)\n",
    "    "
   ]
  },
  {
   "cell_type": "markdown",
   "metadata": {},
   "source": [
    "## 2.2 Experiment Setting"
   ]
  },
  {
   "cell_type": "code",
   "execution_count": 14,
   "metadata": {},
   "outputs": [
    {
     "name": "stdout",
     "output_type": "stream",
     "text": [
      "processing record 10000 of 10000       \n",
      "Time: 31.62\n"
     ]
    }
   ],
   "source": [
    "\n",
    "# Maximum number of word in sentence\n",
    "max_words = 0\n",
    "max_sents = 0\n",
    "num_docs = len(Y)\n",
    "start = time.time()\n",
    "for i in range(num_docs):\n",
    "    sys.stdout.write(\"processing record %i of %i       \\r\" % (i+1,num_docs))\n",
    "    sys.stdout.flush()\n",
    "    sents = sent_tokenize(X[i])\n",
    "    if(len(sents)>max_sents):\n",
    "        max_sents=len(sents)\n",
    "    for sent in sents:\n",
    "        temp = len([w for w in ConvertSentence2Word(sent) if w in w2i]) \n",
    "        if temp > max_words:\n",
    "            max_words = temp       \n",
    "print(\"\\nTime: %.2f\" % (time.time()-start))\n"
   ]
  },
  {
   "cell_type": "code",
   "execution_count": 15,
   "metadata": {},
   "outputs": [],
   "source": [
    "\n",
    "num_classes = LabelEncoding.shape[1]\n",
    "attention_size = WordEmbeddings.shape[1]\n",
    "attention_head = 5\n",
    "activation = tf.nn.elu\n",
    "dropout_rate = 0.9\n",
    "n_epochs = 30\n",
    "he_init = tf.contrib.layers.variance_scaling_initializer(dtype=tf.float64)\n",
    "xavier_init = tf.contrib.layers.xavier_initializer(dtype=tf.float64)\n"
   ]
  },
  {
   "cell_type": "markdown",
   "metadata": {},
   "source": [
    "## 2.3 Word Embedding"
   ]
  },
  {
   "cell_type": "code",
   "execution_count": 89,
   "metadata": {},
   "outputs": [],
   "source": [
    "\n",
    "reset_graph()\n",
    "dropout = tf.placeholder(tf.float64)\n",
    "document = tf.placeholder(tf.int64, shape=[None, None])\n",
    "ws = tf.reduce_sum(tf.sign(document),1)     # Number of words per sentence\n",
    "ms = tf.reduce_sum(tf.sign(ws))             # Number of sentences in documents\n",
    "mw = tf.reduce_max(ws)                      # Maximum number of words in sentence\n",
    "\n",
    "EmbeddingMatrix = tf.get_variable('WordEmbeddings', initializer=WordEmbeddings, dtype=tf.float64)\n",
    "word_embeds = tf.nn.embedding_lookup(EmbeddingMatrix, document)    # Lookup table\n"
   ]
  },
  {
   "cell_type": "markdown",
   "metadata": {},
   "source": [
    "## 2.4 Word Position Embedding"
   ]
  },
  {
   "cell_type": "code",
   "execution_count": 90,
   "metadata": {},
   "outputs": [],
   "source": [
    "\n",
    "positions = tf.expand_dims(tf.range(mw),0)  # Vector to indicate the location of words\n",
    "PositionalEmbeddings = tf.get_variable('WordPosition', shape = (max_words,attention_size),\n",
    "                                       initializer= xavier_init, dtype = tf.float64)\n",
    "pos_embeds = tf.gather(PositionalEmbeddings, positions)\n",
    "word_embeds = tf.nn.dropout(word_embeds+pos_embeds, dropout)\n"
   ]
  },
  {
   "cell_type": "markdown",
   "metadata": {},
   "source": [
    "## 2.5 Word Multihead Self Attention"
   ]
  },
  {
   "cell_type": "code",
   "execution_count": 91,
   "metadata": {},
   "outputs": [],
   "source": [
    "\n",
    "#word self attention 1\n",
    "Q1 = tf.layers.conv1d(word_embeds,attention_size,3,padding='same',\n",
    "                      activation=activation,kernel_initializer=he_init)\n",
    "K1 = tf.layers.conv1d(word_embeds,attention_size,3,padding='same',\n",
    "                      activation=activation,kernel_initializer=he_init)\n",
    "V1 = tf.layers.conv1d(word_embeds,attention_size,3,padding='same',\n",
    "                      activation=activation,kernel_initializer=he_init)\n",
    "\n",
    "Q1 = tf.concat(tf.split(Q1,attention_head,axis=2),axis=0)\n",
    "K1 = tf.concat(tf.split(K1,attention_head,axis=2),axis=0)\n",
    "V1 = tf.concat(tf.split(V1,attention_head,axis=2),axis=0)\n",
    "\n",
    "outputs1 = tf.matmul(Q1,tf.transpose(K1,[0, 2, 1]))\n",
    "outputs1 = outputs1/(K1.get_shape().as_list()[-1]**0.5)\n",
    "outputs1 = tf.nn.dropout(tf.nn.softmax(outputs1),dropout)\n",
    "outputs1 = tf.matmul(outputs1,V1)\n",
    "outputs1 = tf.concat(tf.split(outputs1,attention_head,axis=0),axis=2)"
   ]
  },
  {
   "cell_type": "code",
   "execution_count": 95,
   "metadata": {},
   "outputs": [],
   "source": [
    "\n",
    "#word self attention 2\n",
    "Q2 = tf.layers.conv1d(word_embeds,attention_size,3,padding='same',\n",
    "                      activation=activation,kernel_initializer=he_init)\n",
    "K2 = tf.layers.conv1d(word_embeds,attention_size,3,padding='same',\n",
    "                      activation=activation,kernel_initializer=he_init)\n",
    "V2 = tf.layers.conv1d(word_embeds,attention_size,3,padding='same',\n",
    "                      activation=tf.nn.tanh,kernel_initializer=he_init)\n",
    "\n",
    "Q2 = tf.concat(tf.split(Q2,attention_head,axis=2),axis=0)\n",
    "K2 = tf.concat(tf.split(K2,attention_head,axis=2),axis=0)\n",
    "V2 = tf.concat(tf.split(V2,attention_head,axis=2),axis=0)\n",
    "\n",
    "outputs2 = tf.matmul(Q2,tf.transpose(K2,[0, 2, 1]))\n",
    "outputs2 = outputs2/(K2.get_shape().as_list()[-1]**0.5)\n",
    "outputs2 = tf.nn.dropout(tf.nn.softmax(outputs2),dropout)\n",
    "outputs2 = tf.matmul(outputs2,V2)\n",
    "outputs2 = tf.concat(tf.split(outputs2,attention_head,axis=0),axis=2)"
   ]
  },
  {
   "cell_type": "code",
   "execution_count": 98,
   "metadata": {},
   "outputs": [],
   "source": [
    "\n",
    "outputs = tf.math.multiply(outputs1,outputs2) # Elementwise multiply\n",
    "outputs = layer_norm(outputs)                 # Layer norm\n"
   ]
  },
  {
   "cell_type": "markdown",
   "metadata": {},
   "source": [
    "## 2.7 Word Mutihead Target Attention"
   ]
  },
  {
   "cell_type": "code",
   "execution_count": 99,
   "metadata": {},
   "outputs": [],
   "source": [
    "\n",
    "#word target attention\n",
    "T = tf.get_variable('WordTarget',(1,1,attention_size), tf.float64, he_init)\n",
    "T = tf.tile(T,[ms,1,1])\n",
    "K = tf.layers.conv1d(outputs,attention_size,3,padding='same',\n",
    "                     activation=activation,kernel_initializer=he_init)\n",
    "V = tf.layers.conv1d(outputs,attention_size,3,padding='same',\n",
    "                     activation=activation,kernel_initializer=he_init)\n",
    "\n",
    "T = tf.concat(tf.split(T,attention_head,axis=2),axis=0)\n",
    "K = tf.concat(tf.split(K,attention_head,axis=2),axis=0)\n",
    "V = tf.concat(tf.split(V,attention_head,axis=2),axis=0)\n",
    "\n",
    "sent_embeds = tf.matmul(T,tf.transpose(K,[0, 2, 1]))\n",
    "sent_embeds = sent_embeds/(K.get_shape().as_list()[-1]**0.5)\n",
    "sent_embeds = tf.nn.dropout(tf.nn.softmax(sent_embeds),dropout)\n",
    "sent_embeds = tf.matmul(sent_embeds, V)\n",
    "sent_embeds = tf.concat(tf.split(sent_embeds,attention_head,axis=0),axis=2)\n",
    "sent_embeds = tf.transpose(sent_embeds, [1,0,2])"
   ]
  },
  {
   "cell_type": "markdown",
   "metadata": {},
   "source": [
    "## 2.8 Sentence Position Embedding"
   ]
  },
  {
   "cell_type": "code",
   "execution_count": 105,
   "metadata": {},
   "outputs": [],
   "source": [
    "\n",
    "positions = tf.expand_dims(tf.range(ms),0) \n",
    "PositionalEmbeddings = tf.get_variable('SentPosition', shape = (max_sents,attention_size),\n",
    "                                       initializer= xavier_init, dtype = tf.float64)\n",
    "pos_embeds = tf.gather(PositionalEmbeddings, positions)\n",
    "sent_embeds = tf.nn.dropout(sent_embeds+pos_embeds, dropout)\n"
   ]
  },
  {
   "cell_type": "markdown",
   "metadata": {},
   "source": [
    "## 2.9 Sentence Multihead Self Attention"
   ]
  },
  {
   "cell_type": "code",
   "execution_count": 106,
   "metadata": {},
   "outputs": [],
   "source": [
    "\n",
    "Q1 = tf.layers.conv1d(sent_embeds,attention_size,3,padding='same',\n",
    "                      activation=activation,kernel_initializer=he_init)\n",
    "K1 = tf.layers.conv1d(sent_embeds,attention_size,3,padding='same',\n",
    "                      activation=activation,kernel_initializer=he_init)\n",
    "V1 = tf.layers.conv1d(sent_embeds,attention_size,3,padding='same',\n",
    "                      activation=activation,kernel_initializer=he_init)\n",
    "\n",
    "Q1 = tf.concat(tf.split(Q1,attention_head,axis=2),axis=0)\n",
    "K1 = tf.concat(tf.split(K1,attention_head,axis=2),axis=0)\n",
    "V1 = tf.concat(tf.split(V1,attention_head,axis=2),axis=0)\n",
    "\n",
    "outputs1 = tf.matmul(Q1,tf.transpose(K1,[0, 2, 1]))\n",
    "outputs1 = outputs1/(K1.get_shape().as_list()[-1]**0.5)\n",
    "outputs1 = tf.nn.dropout(tf.nn.softmax(outputs1),dropout)\n",
    "outputs1 = tf.matmul(outputs1,V1)\n",
    "outputs1 = tf.concat(tf.split(outputs1,attention_head,axis=0),axis=2)\n"
   ]
  },
  {
   "cell_type": "code",
   "execution_count": 107,
   "metadata": {},
   "outputs": [],
   "source": [
    "\n",
    "Q2 = tf.layers.conv1d(sent_embeds,attention_size,3,padding='same',\n",
    "                      activation=activation,kernel_initializer=he_init)\n",
    "K2 = tf.layers.conv1d(sent_embeds,attention_size,3,padding='same',\n",
    "                      activation=activation,kernel_initializer=he_init)\n",
    "V2 = tf.layers.conv1d(sent_embeds,attention_size,3,padding='same',\n",
    "                      activation=tf.nn.tanh,kernel_initializer=he_init)\n",
    "\n",
    "Q2 = tf.concat(tf.split(Q2,attention_head,axis=2),axis=0)\n",
    "K2 = tf.concat(tf.split(K2,attention_head,axis=2),axis=0)\n",
    "V2 = tf.concat(tf.split(V2,attention_head,axis=2),axis=0)\n",
    "\n",
    "outputs2 = tf.matmul(Q2,tf.transpose(K2,[0, 2, 1]))\n",
    "outputs2 = outputs2/(K2.get_shape().as_list()[-1]**0.5)\n",
    "outputs2 = tf.nn.dropout(tf.nn.softmax(outputs2),dropout)\n",
    "outputs2 = tf.matmul(outputs2,V2)\n",
    "outputs2 = tf.concat(tf.split(outputs2,attention_head,axis=0),axis=2)\n"
   ]
  },
  {
   "cell_type": "code",
   "execution_count": 108,
   "metadata": {},
   "outputs": [],
   "source": [
    "\n",
    "outputs = tf.multiply(outputs1,outputs2)\n",
    "outputs = layer_norm(outputs)\n"
   ]
  },
  {
   "cell_type": "markdown",
   "metadata": {},
   "source": [
    "## 2.10 Sentence Multihead Target Attention"
   ]
  },
  {
   "cell_type": "code",
   "execution_count": 109,
   "metadata": {},
   "outputs": [],
   "source": [
    "\n",
    "T = tf.get_variable('SentTarget',(1,1,attention_size), tf.float64,he_init)\n",
    "K = tf.layers.conv1d(outputs,attention_size,3,padding='same',\n",
    "                     activation=activation,kernel_initializer=he_init)\n",
    "V = tf.layers.conv1d(outputs,attention_size,3,padding='same',\n",
    "                     activation=activation,kernel_initializer=he_init)\n",
    "\n",
    "T = tf.concat(tf.split(T,attention_head,axis=2),axis=0)\n",
    "K = tf.concat(tf.split(K,attention_head,axis=2),axis=0)\n",
    "V = tf.concat(tf.split(V,attention_head,axis=2),axis=0)\n",
    "\n",
    "doc_embed = tf.matmul(T,tf.transpose(K,[0, 2, 1]))\n",
    "doc_embed = doc_embed/(K.get_shape().as_list()[-1]**0.5)\n",
    "doc_embed = tf.nn.dropout(tf.nn.softmax(doc_embed),dropout)\n",
    "doc_embed = tf.matmul(doc_embed, V)\n",
    "doc_embed = tf.concat(tf.split(doc_embed,attention_head,axis=0),axis=2)\n",
    "doc_embed = tf.squeeze(doc_embed,[0])\n"
   ]
  },
  {
   "cell_type": "markdown",
   "metadata": {},
   "source": [
    "## 2.11 Classification"
   ]
  },
  {
   "cell_type": "code",
   "execution_count": 114,
   "metadata": {},
   "outputs": [],
   "source": [
    "\n",
    "output = tf.layers.dense(doc_embed,num_classes,kernel_initializer=xavier_init)\n",
    "prediction = tf.nn.softmax(output)\n",
    "prediction = tf.nn.dropout(prediction, dropout)\n"
   ]
  },
  {
   "cell_type": "markdown",
   "metadata": {},
   "source": [
    "# 3. Train the model"
   ]
  },
  {
   "cell_type": "code",
   "execution_count": 115,
   "metadata": {},
   "outputs": [],
   "source": [
    "\n",
    "def val_score(valdata, vallabels):\n",
    "    correct = 0\n",
    "    for i in range(len(valdata)):\n",
    "        X_input = ConvertDoc2List(valdata[i])\n",
    "        if len(X_input) < 1:\n",
    "            continue\n",
    "        X_input = ConvertList2Array(X_input)\n",
    "        feed_dict = {document: X_input, dropout: 1.0}\n",
    "        val_pred = sess.run(prediction, feed_dict=feed_dict)\n",
    "        if np.argmax(val_pred) == np.argmax(vallabels[i]):\n",
    "            correct +=1\n",
    "        val_acc = correct/len(valdata)\n",
    "    return val_acc\n"
   ]
  },
  {
   "cell_type": "code",
   "execution_count": 116,
   "metadata": {},
   "outputs": [],
   "source": [
    "\n",
    "label = tf.placeholder(tf.float64, shape=[num_classes])\n",
    "labels = tf.expand_dims(label,0)\n",
    "loss = tf.reduce_mean(tf.nn.softmax_cross_entropy_with_logits_v2(logits=prediction,labels=labels))\n",
    "optimizer = tf.train.AdamOptimizer(2e-5,0.9,0.99)\n",
    "training_op = optimizer.minimize(loss)\n"
   ]
  },
  {
   "cell_type": "code",
   "execution_count": 117,
   "metadata": {
    "scrolled": true
   },
   "outputs": [
    {
     "name": "stdout",
     "output_type": "stream",
     "text": [
      "epoch 1, training accuracy: 39.10, validation accuracy: 46.90, time:  0:02:33\n",
      "epoch 2, training accuracy: 42.10, validation accuracy: 46.70, time:  0:02:31\n",
      "epoch 3, training accuracy: 44.80, validation accuracy: 50.90, time:  0:02:32\n",
      "epoch 4, training accuracy: 48.73, validation accuracy: 53.00, time:  0:02:33\n",
      "epoch 5, training accuracy: 49.59, validation accuracy: 53.60, time:  0:02:32\n",
      "epoch 6, training accuracy: 50.82, validation accuracy: 53.80, time:  0:02:32\n",
      "epoch 7, training accuracy: 51.42, validation accuracy: 54.80, time:  0:02:30\n",
      "epoch 8, training accuracy: 52.33, validation accuracy: 54.70, time:  0:02:25\n",
      "epoch 9, training accuracy: 52.73, validation accuracy: 56.30, time:  0:02:33\n",
      "epoch 10, training accuracy: 53.62, validation accuracy: 56.20, time:  0:02:32\n",
      "epoch 11, training accuracy: 52.98, validation accuracy: 55.80, time:  0:02:35\n",
      "epoch 12, training accuracy: 54.81, validation accuracy: 56.30, time:  0:02:36\n",
      "epoch 13, training accuracy: 54.35, validation accuracy: 56.50, time:  0:02:29\n",
      "epoch 14, training accuracy: 55.43, validation accuracy: 56.30, time:  0:02:32\n",
      "epoch 15, training accuracy: 55.85, validation accuracy: 56.30, time:  0:02:35\n",
      "epoch 16, training accuracy: 55.26, validation accuracy: 57.00, time:  0:02:35\n",
      "epoch 17, training accuracy: 56.39, validation accuracy: 56.60, time:  0:02:29\n",
      "epoch 18, training accuracy: 56.69, validation accuracy: 57.40, time:  0:02:30\n",
      "epoch 19, training accuracy: 56.75, validation accuracy: 56.40, time:  0:02:34\n",
      "epoch 20, training accuracy: 57.03, validation accuracy: 57.50, time:  0:02:37\n",
      "epoch 21, training accuracy: 57.99, validation accuracy: 57.00, time:  0:02:45\n",
      "epoch 22, training accuracy: 58.40, validation accuracy: 57.00, time:  0:02:45\n",
      "epoch 23, training accuracy: 58.59, validation accuracy: 57.20, time:  0:02:45\n",
      "epoch 24, training accuracy: 58.50, validation accuracy: 57.50, time:  0:02:46\n",
      "epoch 25, training accuracy: 59.13, validation accuracy: 58.00, time:  0:02:46\n",
      "epoch 26, training accuracy: 59.34, validation accuracy: 57.90, time:  0:02:45\n",
      "epoch 27, training accuracy: 59.36, validation accuracy: 57.80, time:  0:02:45\n",
      "epoch 28, training accuracy: 59.46, validation accuracy: 57.90, time:  0:02:46\n",
      "epoch 29, training accuracy: 60.49, validation accuracy: 57.00, time:  0:02:47\n",
      "epoch 30, training accuracy: 60.05, validation accuracy: 57.50, time:  0:02:47\n",
      "\n",
      "Time: 1:18:22\n"
     ]
    }
   ],
   "source": [
    "\n",
    "init = tf.global_variables_initializer()\n",
    "start = time.time()\n",
    "end = time.time()\n",
    "saver = tf.train.Saver()\n",
    "bestscore = 0\n",
    "train_acc = []\n",
    "valid_acc = []\n",
    "\n",
    "with tf.Session() as sess:\n",
    "    init.run()\n",
    "    correct = 0\n",
    "    for epoch in range(n_epochs):\n",
    "        for i in range(len(X_train)):\n",
    "            X_input = ConvertDoc2List(X_train[i])\n",
    "            if(len(X_input)<1):   # Prevent Empty Document\n",
    "                continue\n",
    "            X_input = ConvertList2Array(X_input)\n",
    "            y_input = y_train[i]\n",
    "            feed_dict = {document: X_input, label: y_input, dropout: dropout_rate}\n",
    "            pred, cost, _ = sess.run([prediction, loss, training_op], feed_dict=feed_dict)\n",
    "            \n",
    "            if np.argmax(pred) == np.argmax(y_input):\n",
    "                correct += 1\n",
    "            sys.stdout.write(\"epoch %i, sample %i of %i, loss: %f\\r\"% (epoch+1,i+1,len(X_train),cost))\n",
    "            sys.stdout.flush()\n",
    "    \n",
    "        trainscore = correct/len(X_train)\n",
    "        valscore = val_score(X_valid, y_valid)\n",
    "        \n",
    "        train_acc.append(trainscore)\n",
    "        valid_acc.append(valscore)\n",
    "        \n",
    "        if valscore >= bestscore:\n",
    "            bestscore = valscore\n",
    "            save_path = saver.save(sess, savedir+\"savedmodels/hcan_small_50.ckpt\")\n",
    "        temptime = datetime.timedelta(seconds=round(time.time()-start))\n",
    "        print(\"epoch %i, training accuracy: %.2f, validation accuracy: %.2f,\" % (epoch+1, trainscore*100, valscore*100), \"time: \",temptime)  \n",
    "        correct = 0\n",
    "        start = time.time()\n",
    "totaltime = datetime.timedelta(seconds=round(time.time()-end))\n",
    "print(\"\\nTime:\", totaltime)\n"
   ]
  },
  {
   "cell_type": "code",
   "execution_count": 118,
   "metadata": {},
   "outputs": [],
   "source": [
    "\n",
    "# Save Accuracy\n",
    "accuracy = np.column_stack((np.array(train_acc), np.array(valid_acc)))\n",
    "np.savez(datapath + 'accuracy_hcan_small_50.npz', accuracy )\n"
   ]
  },
  {
   "cell_type": "code",
   "execution_count": 119,
   "metadata": {},
   "outputs": [
    {
     "data": {
      "image/png": "[encoded data removed]",
      "text/plain": [
       "<matplotlib.figure.Figure at 0x1c35fba8d0>"
      ]
     },
     "metadata": {},
     "output_type": "display_data"
    }
   ],
   "source": [
    "\n",
    "# Plot the accuracy\n",
    "epochs = range(1,n_epochs+1)\n",
    "plt.plot(epochs, train_acc, label=\"train\")\n",
    "plt.plot(epochs, valid_acc, label=\"valid\")\n",
    "plt.title('Training & Validation Accuracy') \n",
    "plt.xlabel('Epoch')\n",
    "plt.ylabel('Accuracy')\n",
    "plt.legend(loc='upper left')\n",
    "plt.show()\n"
   ]
  },
  {
   "cell_type": "markdown",
   "metadata": {},
   "source": [
    "# 4. Test the model"
   ]
  },
  {
   "cell_type": "code",
   "execution_count": 120,
   "metadata": {},
   "outputs": [],
   "source": [
    "\n",
    "def test_score(data, label=[]):\n",
    "    labels = []\n",
    "    init_op = tf.global_variables_initializer()\n",
    "    correct = 0\n",
    "    \n",
    "    with tf.Session() as sess:\n",
    "        sess.run(init_op)\n",
    "        saver.restore(sess, save_path)\n",
    "        for i in range(len(data)):\n",
    "            X_input = ConvertDoc2List(data[i])\n",
    "            if len(X_input) < 1:\n",
    "                continue\n",
    "            X_input = ConvertList2Array(X_input)\n",
    "            feed_dict = {document: X_input, dropout : 1.0}\n",
    "            pred = sess.run(prediction, feed_dict=feed_dict)\n",
    "\n",
    "            if np.argmax(pred) == np.argmax(label[i]):\n",
    "                correct += 1\n",
    "    return correct/len(data)\n",
    "    "
   ]
  },
  {
   "cell_type": "code",
   "execution_count": 121,
   "metadata": {},
   "outputs": [
    {
     "name": "stdout",
     "output_type": "stream",
     "text": [
      "INFO:tensorflow:Restoring parameters from /Users/apple/Desktop/Dataset/savedmodels/hcan_small_50.ckpt\n",
      "\n",
      "test accuracy: 58.60 %\n",
      "Time: 0:00:06\n"
     ]
    }
   ],
   "source": [
    "\n",
    "start = time.time()\n",
    "testscore = test_score(X_test, y_test)\n",
    "totaltime = datetime.timedelta(seconds=round(time.time()-start))\n",
    "print(\"\\ntest accuracy: %.2f\" % (testscore*100),\"%\")\n",
    "print(\"Time:\", totaltime)\n"
   ]
  },
  {
   "cell_type": "code",
   "execution_count": null,
   "metadata": {},
   "outputs": [],
   "source": []
  }
 ],
 "metadata": {
  "kernelspec": {
   "display_name": "Python 3",
   "language": "python",
   "name": "python3"
  },
  "language_info": {
   "codemirror_mode": {
    "name": "ipython",
    "version": 3
   },
   "file_extension": ".py",
   "mimetype": "text/x-python",
   "name": "python",
   "nbconvert_exporter": "python",
   "pygments_lexer": "ipython3",
   "version": "3.6.4"
  }
 },
 "nbformat": 4,
 "nbformat_minor": 2
}
